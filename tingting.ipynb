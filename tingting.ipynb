{
 "cells": [
  {
   "cell_type": "code",
   "execution_count": 1,
   "metadata": {},
   "outputs": [
    {
     "name": "stdout",
     "output_type": "stream",
     "text": [
      "Collecting selenium\n",
      "  Downloading selenium-3.141.0-py2.py3-none-any.whl (904 kB)\n",
      "\u001b[K     |████████████████████████████████| 904 kB 3.1 MB/s eta 0:00:01\n",
      "\u001b[?25hRequirement already satisfied: urllib3 in /home/yann/miniconda3/lib/python3.8/site-packages (from selenium) (1.25.11)\n",
      "Installing collected packages: selenium\n",
      "Successfully installed selenium-3.141.0\n",
      "Note: you may need to restart the kernel to use updated packages.\n"
     ]
    }
   ],
   "source": [
    "pip install selenium"
   ]
  },
  {
   "cell_type": "code",
   "execution_count": 2,
   "metadata": {},
   "outputs": [
    {
     "name": "stdout",
     "output_type": "stream",
     "text": [
      "Collecting pyvirtualdisplay\n",
      "  Downloading PyVirtualDisplay-2.2-py3-none-any.whl (15 kB)\n",
      "Collecting EasyProcess\n",
      "  Downloading EasyProcess-0.3-py2.py3-none-any.whl (7.9 kB)\n",
      "Installing collected packages: EasyProcess, pyvirtualdisplay\n",
      "Successfully installed EasyProcess-0.3 pyvirtualdisplay-2.2\n",
      "Note: you may need to restart the kernel to use updated packages.\n"
     ]
    }
   ],
   "source": [
    "pip install pyvirtualdisplay"
   ]
  },
  {
   "cell_type": "code",
   "execution_count": 3,
   "metadata": {},
   "outputs": [
    {
     "name": "stdout",
     "output_type": "stream",
     "text": [
      "Collecting webdriver-manager\n",
      "  Downloading webdriver_manager-3.4.2-py2.py3-none-any.whl (16 kB)\n",
      "Collecting crayons\n",
      "  Downloading crayons-0.4.0-py2.py3-none-any.whl (4.6 kB)\n",
      "Collecting configparser\n",
      "  Downloading configparser-5.0.2-py3-none-any.whl (19 kB)\n",
      "Requirement already satisfied: requests in /home/yann/miniconda3/lib/python3.8/site-packages (from webdriver-manager) (2.24.0)\n",
      "Collecting colorama\n",
      "  Downloading colorama-0.4.4-py2.py3-none-any.whl (16 kB)\n",
      "Requirement already satisfied: certifi>=2017.4.17 in /home/yann/miniconda3/lib/python3.8/site-packages (from requests->webdriver-manager) (2021.5.30)\n",
      "Requirement already satisfied: chardet<4,>=3.0.2 in /home/yann/miniconda3/lib/python3.8/site-packages (from requests->webdriver-manager) (3.0.4)\n",
      "Requirement already satisfied: urllib3!=1.25.0,!=1.25.1,<1.26,>=1.21.1 in /home/yann/miniconda3/lib/python3.8/site-packages (from requests->webdriver-manager) (1.25.11)\n",
      "Requirement already satisfied: idna<3,>=2.5 in /home/yann/miniconda3/lib/python3.8/site-packages (from requests->webdriver-manager) (2.10)\n",
      "Installing collected packages: colorama, crayons, configparser, webdriver-manager\n",
      "Successfully installed colorama-0.4.4 configparser-5.0.2 crayons-0.4.0 webdriver-manager-3.4.2\n",
      "Note: you may need to restart the kernel to use updated packages.\n"
     ]
    }
   ],
   "source": [
    "pip install webdriver-manager\n"
   ]
  },
  {
   "cell_type": "code",
   "execution_count": 5,
   "metadata": {
    "scrolled": true
   },
   "outputs": [
    {
     "name": "stdout",
     "output_type": "stream",
     "text": [
      "Collecting pandas\n",
      "  Downloading pandas-1.2.4-cp38-cp38-manylinux1_x86_64.whl (9.7 MB)\n",
      "\u001b[K     |████████████████████████████████| 9.7 MB 930 kB/s eta 0:00:01\n",
      "\u001b[?25hCollecting numpy>=1.16.5\n",
      "  Downloading numpy-1.20.3-cp38-cp38-manylinux_2_12_x86_64.manylinux2010_x86_64.whl (15.4 MB)\n",
      "\u001b[K     |████████████████████████████████| 15.4 MB 20 kB/s  eta 0:00:01\n",
      "\u001b[?25hRequirement already satisfied: python-dateutil>=2.7.3 in /home/yann/miniconda3/lib/python3.8/site-packages (from pandas) (2.8.1)\n",
      "Requirement already satisfied: pytz>=2017.3 in /home/yann/miniconda3/lib/python3.8/site-packages (from pandas) (2021.1)\n",
      "Requirement already satisfied: six>=1.5 in /home/yann/miniconda3/lib/python3.8/site-packages (from python-dateutil>=2.7.3->pandas) (1.15.0)\n",
      "Installing collected packages: numpy, pandas\n",
      "Successfully installed numpy-1.20.3 pandas-1.2.4\n",
      "Note: you may need to restart the kernel to use updated packages.\n"
     ]
    }
   ],
   "source": [
    "pip install pandas"
   ]
  },
  {
   "cell_type": "code",
   "execution_count": 6,
   "metadata": {
    "scrolled": true
   },
   "outputs": [
    {
     "name": "stdout",
     "output_type": "stream",
     "text": [
      "Collecting plotly\n",
      "  Downloading plotly-4.14.3-py2.py3-none-any.whl (13.2 MB)\n",
      "\u001b[K     |████████████████████████████████| 13.2 MB 700 kB/s eta 0:00:01\n",
      "\u001b[?25hRequirement already satisfied: six in /home/yann/miniconda3/lib/python3.8/site-packages (from plotly) (1.15.0)\n",
      "Collecting retrying>=1.3.3\n",
      "  Downloading retrying-1.3.3.tar.gz (10 kB)\n",
      "Building wheels for collected packages: retrying\n",
      "  Building wheel for retrying (setup.py) ... \u001b[?25ldone\n",
      "\u001b[?25h  Created wheel for retrying: filename=retrying-1.3.3-py3-none-any.whl size=11429 sha256=9d7b23c833f5f4233ce5e0eef7e8e89629f8008cb93c53e7d24e9d3160b111db\n",
      "  Stored in directory: /home/yann/.cache/pip/wheels/c4/a7/48/0a434133f6d56e878ca511c0e6c38326907c0792f67b476e56\n",
      "Successfully built retrying\n",
      "Installing collected packages: retrying, plotly\n",
      "Successfully installed plotly-4.14.3 retrying-1.3.3\n",
      "Note: you may need to restart the kernel to use updated packages.\n"
     ]
    }
   ],
   "source": [
    "pip install plotly"
   ]
  },
  {
   "cell_type": "code",
   "execution_count": 10,
   "metadata": {},
   "outputs": [
    {
     "name": "stdout",
     "output_type": "stream",
     "text": [
      "Collecting twilio\n",
      "  Downloading twilio-6.59.1.tar.gz (479 kB)\n",
      "\u001b[K     |████████████████████████████████| 479 kB 534 kB/s eta 0:00:01\n",
      "\u001b[?25hRequirement already satisfied: six in /home/yann/miniconda3/lib/python3.8/site-packages (from twilio) (1.15.0)\n",
      "Requirement already satisfied: pytz in /home/yann/miniconda3/lib/python3.8/site-packages (from twilio) (2021.1)\n",
      "Collecting PyJWT==1.7.1\n",
      "  Downloading PyJWT-1.7.1-py2.py3-none-any.whl (18 kB)\n",
      "Requirement already satisfied: requests>=2.0.0 in /home/yann/miniconda3/lib/python3.8/site-packages (from twilio) (2.24.0)\n",
      "Requirement already satisfied: chardet<4,>=3.0.2 in /home/yann/miniconda3/lib/python3.8/site-packages (from requests>=2.0.0->twilio) (3.0.4)\n",
      "Requirement already satisfied: urllib3!=1.25.0,!=1.25.1,<1.26,>=1.21.1 in /home/yann/miniconda3/lib/python3.8/site-packages (from requests>=2.0.0->twilio) (1.25.11)\n",
      "Requirement already satisfied: idna<3,>=2.5 in /home/yann/miniconda3/lib/python3.8/site-packages (from requests>=2.0.0->twilio) (2.10)\n",
      "Requirement already satisfied: certifi>=2017.4.17 in /home/yann/miniconda3/lib/python3.8/site-packages (from requests>=2.0.0->twilio) (2021.5.30)\n",
      "Building wheels for collected packages: twilio\n",
      "  Building wheel for twilio (setup.py) ... \u001b[?25ldone\n",
      "\u001b[?25h  Created wheel for twilio: filename=twilio-6.59.1-py2.py3-none-any.whl size=1268926 sha256=8fab1586eeb7ddde3e6dc3b1b36c5763c39060fc5cb9830e1e883f4c8705fb33\n",
      "  Stored in directory: /home/yann/.cache/pip/wheels/b9/da/74/cdf7bc6c109c2ab191ef0ace7a6e1929157a978ac9aad770c5\n",
      "Successfully built twilio\n",
      "Installing collected packages: PyJWT, twilio\n",
      "Successfully installed PyJWT-1.7.1 twilio-6.59.1\n",
      "Note: you may need to restart the kernel to use updated packages.\n"
     ]
    }
   ],
   "source": [
    "pip install twilio"
   ]
  },
  {
   "cell_type": "code",
   "execution_count": 1,
   "metadata": {},
   "outputs": [],
   "source": [
    "import requests\n",
    "import pandas as pd\n",
    "import io\n",
    "import plotly.graph_objects as go\n",
    "import datetime\n",
    "import os\n",
    "import time\n",
    "import sys\n"
   ]
  },
  {
   "cell_type": "code",
   "execution_count": 2,
   "metadata": {},
   "outputs": [
    {
     "name": "stdout",
     "output_type": "stream",
     "text": [
      "b'<!DOCTYPE HTML PUBLIC \"-//IETF//DTD HTML 2.0//EN\">\\n<html><head>\\n<title>403 Forbidden</title>\\n</head><body>\\n<h1>Forbidden</h1>\\n<p>You don\\'t have permission to access /booking/create/14544\\non this server.</p>\\n</body></html>\\n'\n"
     ]
    }
   ],
   "source": [
    "url = 'http://www.isere.gouv.fr/booking/create/14544'\n",
    "params ={'startDate':'2015-01-02',\n",
    "         'token':'61c063a2b206db9352c078f44e0a57b365b74e53',\n",
    "         'format':'csv',\n",
    "        }\n",
    "\n",
    "r = requests.get(url)\n",
    "print(r.content)"
   ]
  },
  {
   "cell_type": "code",
   "execution_count": 9,
   "metadata": {},
   "outputs": [
    {
     "name": "stderr",
     "output_type": "stream",
     "text": [
      "\n",
      "\n",
      "====== WebDriver manager ======\n",
      "Current google-chrome version is 91.0.4472\n",
      "Get LATEST driver version for 91.0.4472\n",
      "Driver [/home/yann/.wdm/drivers/chromedriver/linux64/91.0.4472.19/chromedriver] found in cache\n"
     ]
    },
    {
     "name": "stdout",
     "output_type": "stream",
     "text": [
      "Trial number 1, time = 11/06/2021 08:49:46\n",
      "Plus de place option: planning35227\n"
     ]
    },
    {
     "name": "stderr",
     "output_type": "stream",
     "text": [
      "\n",
      "\n",
      "====== WebDriver manager ======\n",
      "Current google-chrome version is 91.0.4472\n",
      "Get LATEST driver version for 91.0.4472\n",
      "Driver [/home/yann/.wdm/drivers/chromedriver/linux64/91.0.4472.19/chromedriver] found in cache\n"
     ]
    },
    {
     "name": "stdout",
     "output_type": "stream",
     "text": [
      "Trial number 2, time = 11/06/2021 08:51:39\n",
      "Plus de place option: planning35228\n"
     ]
    },
    {
     "name": "stderr",
     "output_type": "stream",
     "text": [
      "\n",
      "\n",
      "====== WebDriver manager ======\n",
      "Current google-chrome version is 91.0.4472\n",
      "Get LATEST driver version for 91.0.4472\n",
      "Driver [/home/yann/.wdm/drivers/chromedriver/linux64/91.0.4472.19/chromedriver] found in cache\n"
     ]
    },
    {
     "name": "stdout",
     "output_type": "stream",
     "text": [
      "Trial number 3, time = 11/06/2021 08:52:45\n",
      "Plus de place option: planning35227\n"
     ]
    },
    {
     "name": "stderr",
     "output_type": "stream",
     "text": [
      "\n",
      "\n",
      "====== WebDriver manager ======\n",
      "Current google-chrome version is 91.0.4472\n",
      "Get LATEST driver version for 91.0.4472\n",
      "Driver [/home/yann/.wdm/drivers/chromedriver/linux64/91.0.4472.19/chromedriver] found in cache\n"
     ]
    },
    {
     "name": "stdout",
     "output_type": "stream",
     "text": [
      "Trial number 4, time = 11/06/2021 08:57:06\n",
      "Plus de place option: planning35228\n"
     ]
    },
    {
     "name": "stderr",
     "output_type": "stream",
     "text": [
      "\n",
      "\n",
      "====== WebDriver manager ======\n",
      "Current google-chrome version is 91.0.4472\n",
      "Get LATEST driver version for 91.0.4472\n",
      "Driver [/home/yann/.wdm/drivers/chromedriver/linux64/91.0.4472.19/chromedriver] found in cache\n"
     ]
    },
    {
     "name": "stdout",
     "output_type": "stream",
     "text": [
      "Trial number 5, time = 11/06/2021 09:00:20\n",
      "Plus de place option: planning35227\n"
     ]
    },
    {
     "name": "stderr",
     "output_type": "stream",
     "text": [
      "\n",
      "\n",
      "====== WebDriver manager ======\n",
      "Current google-chrome version is 91.0.4472\n",
      "Get LATEST driver version for 91.0.4472\n",
      "Driver [/home/yann/.wdm/drivers/chromedriver/linux64/91.0.4472.19/chromedriver] found in cache\n"
     ]
    },
    {
     "name": "stdout",
     "output_type": "stream",
     "text": [
      "Trial number 6, time = 11/06/2021 09:02:59\n",
      "Bad gateway: planning35228\n"
     ]
    },
    {
     "name": "stderr",
     "output_type": "stream",
     "text": [
      "\n",
      "\n",
      "====== WebDriver manager ======\n",
      "Current google-chrome version is 91.0.4472\n",
      "Get LATEST driver version for 91.0.4472\n",
      "Driver [/home/yann/.wdm/drivers/chromedriver/linux64/91.0.4472.19/chromedriver] found in cache\n"
     ]
    },
    {
     "name": "stdout",
     "output_type": "stream",
     "text": [
      "Trial number 7, time = 11/06/2021 09:05:37\n",
      "Plus de place option: planning35227\n"
     ]
    },
    {
     "name": "stderr",
     "output_type": "stream",
     "text": [
      "\n",
      "\n",
      "====== WebDriver manager ======\n",
      "Current google-chrome version is 91.0.4472\n",
      "Get LATEST driver version for 91.0.4472\n"
     ]
    },
    {
     "name": "stdout",
     "output_type": "stream",
     "text": [
      "Trial number 8, time = 11/06/2021 09:10:39\n"
     ]
    },
    {
     "name": "stderr",
     "output_type": "stream",
     "text": [
      "Driver [/home/yann/.wdm/drivers/chromedriver/linux64/91.0.4472.19/chromedriver] found in cache\n"
     ]
    },
    {
     "name": "stdout",
     "output_type": "stream",
     "text": [
      "Plus de place option: planning35228\n"
     ]
    },
    {
     "name": "stderr",
     "output_type": "stream",
     "text": [
      "\n",
      "\n",
      "====== WebDriver manager ======\n",
      "Current google-chrome version is 91.0.4472\n",
      "Get LATEST driver version for 91.0.4472\n",
      "Driver [/home/yann/.wdm/drivers/chromedriver/linux64/91.0.4472.19/chromedriver] found in cache\n"
     ]
    },
    {
     "name": "stdout",
     "output_type": "stream",
     "text": [
      "Trial number 9, time = 11/06/2021 09:12:10\n",
      "Plus de place option: planning35227\n"
     ]
    },
    {
     "name": "stderr",
     "output_type": "stream",
     "text": [
      "\n",
      "\n",
      "====== WebDriver manager ======\n",
      "Current google-chrome version is 91.0.4472\n",
      "Get LATEST driver version for 91.0.4472\n",
      "Driver [/home/yann/.wdm/drivers/chromedriver/linux64/91.0.4472.19/chromedriver] found in cache\n"
     ]
    },
    {
     "name": "stdout",
     "output_type": "stream",
     "text": [
      "Trial number 10, time = 11/06/2021 09:16:45\n",
      "Plus de place option: planning35228\n"
     ]
    },
    {
     "name": "stderr",
     "output_type": "stream",
     "text": [
      "\n",
      "\n",
      "====== WebDriver manager ======\n",
      "Current google-chrome version is 91.0.4472\n",
      "Get LATEST driver version for 91.0.4472\n",
      "Driver [/home/yann/.wdm/drivers/chromedriver/linux64/91.0.4472.19/chromedriver] found in cache\n"
     ]
    },
    {
     "name": "stdout",
     "output_type": "stream",
     "text": [
      "Trial number 11, time = 11/06/2021 09:18:38\n",
      "Plus de place option: planning35227\n"
     ]
    },
    {
     "name": "stderr",
     "output_type": "stream",
     "text": [
      "\n",
      "\n",
      "====== WebDriver manager ======\n",
      "Current google-chrome version is 91.0.4472\n",
      "Get LATEST driver version for 91.0.4472\n"
     ]
    },
    {
     "name": "stdout",
     "output_type": "stream",
     "text": [
      "Trial number 12, time = 11/06/2021 09:20:53\n"
     ]
    },
    {
     "name": "stderr",
     "output_type": "stream",
     "text": [
      "Driver [/home/yann/.wdm/drivers/chromedriver/linux64/91.0.4472.19/chromedriver] found in cache\n"
     ]
    },
    {
     "name": "stdout",
     "output_type": "stream",
     "text": [
      "Plus de place option: planning35228\n"
     ]
    },
    {
     "name": "stderr",
     "output_type": "stream",
     "text": [
      "\n",
      "\n",
      "====== WebDriver manager ======\n",
      "Current google-chrome version is 91.0.4472\n",
      "Get LATEST driver version for 91.0.4472\n",
      "Driver [/home/yann/.wdm/drivers/chromedriver/linux64/91.0.4472.19/chromedriver] found in cache\n"
     ]
    },
    {
     "name": "stdout",
     "output_type": "stream",
     "text": [
      "Trial number 13, time = 11/06/2021 09:23:19\n",
      "Plus de place option: planning35227\n"
     ]
    },
    {
     "name": "stderr",
     "output_type": "stream",
     "text": [
      "\n",
      "\n",
      "====== WebDriver manager ======\n",
      "Current google-chrome version is 91.0.4472\n",
      "Get LATEST driver version for 91.0.4472\n",
      "Driver [/home/yann/.wdm/drivers/chromedriver/linux64/91.0.4472.19/chromedriver] found in cache\n"
     ]
    },
    {
     "name": "stdout",
     "output_type": "stream",
     "text": [
      "Trial number 14, time = 11/06/2021 09:26:46\n",
      "Plus de place option: planning35228\n"
     ]
    },
    {
     "name": "stderr",
     "output_type": "stream",
     "text": [
      "\n",
      "\n",
      "====== WebDriver manager ======\n",
      "Current google-chrome version is 91.0.4472\n",
      "Get LATEST driver version for 91.0.4472\n",
      "Driver [/home/yann/.wdm/drivers/chromedriver/linux64/91.0.4472.19/chromedriver] found in cache\n"
     ]
    },
    {
     "name": "stdout",
     "output_type": "stream",
     "text": [
      "Trial number 15, time = 11/06/2021 09:28:45\n",
      "Plus de place option: planning35227\n"
     ]
    },
    {
     "name": "stderr",
     "output_type": "stream",
     "text": [
      "\n",
      "\n",
      "====== WebDriver manager ======\n",
      "Current google-chrome version is 91.0.4472\n",
      "Get LATEST driver version for 91.0.4472\n",
      "Driver [/home/yann/.wdm/drivers/chromedriver/linux64/91.0.4472.19/chromedriver] found in cache\n"
     ]
    },
    {
     "name": "stdout",
     "output_type": "stream",
     "text": [
      "Trial number 16, time = 11/06/2021 09:31:38\n",
      "Plus de place option: planning35228\n"
     ]
    },
    {
     "name": "stderr",
     "output_type": "stream",
     "text": [
      "\n",
      "\n",
      "====== WebDriver manager ======\n",
      "Current google-chrome version is 91.0.4472\n",
      "Get LATEST driver version for 91.0.4472\n",
      "Driver [/home/yann/.wdm/drivers/chromedriver/linux64/91.0.4472.19/chromedriver] found in cache\n"
     ]
    },
    {
     "name": "stdout",
     "output_type": "stream",
     "text": [
      "Trial number 17, time = 11/06/2021 09:34:41\n",
      "Plus de place option: planning35227\n"
     ]
    },
    {
     "name": "stderr",
     "output_type": "stream",
     "text": [
      "\n",
      "\n",
      "====== WebDriver manager ======\n",
      "Current google-chrome version is 91.0.4472\n",
      "Get LATEST driver version for 91.0.4472\n",
      "Driver [/home/yann/.wdm/drivers/chromedriver/linux64/91.0.4472.19/chromedriver] found in cache\n"
     ]
    },
    {
     "name": "stdout",
     "output_type": "stream",
     "text": [
      "Trial number 18, time = 11/06/2021 09:38:18\n",
      "Plus de place option: planning35228\n"
     ]
    },
    {
     "name": "stderr",
     "output_type": "stream",
     "text": [
      "\n",
      "\n",
      "====== WebDriver manager ======\n",
      "Current google-chrome version is 91.0.4472\n",
      "Get LATEST driver version for 91.0.4472\n",
      "Driver [/home/yann/.wdm/drivers/chromedriver/linux64/91.0.4472.19/chromedriver] found in cache\n"
     ]
    },
    {
     "name": "stdout",
     "output_type": "stream",
     "text": [
      "Trial number 19, time = 11/06/2021 09:39:39\n",
      "Fail on 2nd page\n"
     ]
    },
    {
     "name": "stderr",
     "output_type": "stream",
     "text": [
      "\n",
      "\n",
      "====== WebDriver manager ======\n",
      "Current google-chrome version is 91.0.4472\n",
      "Get LATEST driver version for 91.0.4472\n",
      "Driver [/home/yann/.wdm/drivers/chromedriver/linux64/91.0.4472.19/chromedriver] found in cache\n"
     ]
    },
    {
     "name": "stdout",
     "output_type": "stream",
     "text": [
      "Trial number 20, time = 11/06/2021 09:51:06\n",
      "Fail to load page\n"
     ]
    },
    {
     "name": "stderr",
     "output_type": "stream",
     "text": [
      "\n",
      "\n",
      "====== WebDriver manager ======\n",
      "Current google-chrome version is 91.0.4472\n",
      "Get LATEST driver version for 91.0.4472\n"
     ]
    },
    {
     "name": "stdout",
     "output_type": "stream",
     "text": [
      "Trial number 21, time = 11/06/2021 10:06:30\n"
     ]
    },
    {
     "name": "stderr",
     "output_type": "stream",
     "text": [
      "Driver [/home/yann/.wdm/drivers/chromedriver/linux64/91.0.4472.19/chromedriver] found in cache\n"
     ]
    },
    {
     "name": "stdout",
     "output_type": "stream",
     "text": [
      "Plus de place option: planning35227\n"
     ]
    },
    {
     "name": "stderr",
     "output_type": "stream",
     "text": [
      "\n",
      "\n",
      "====== WebDriver manager ======\n",
      "Current google-chrome version is 91.0.4472\n",
      "Get LATEST driver version for 91.0.4472\n",
      "Driver [/home/yann/.wdm/drivers/chromedriver/linux64/91.0.4472.19/chromedriver] found in cache\n"
     ]
    },
    {
     "name": "stdout",
     "output_type": "stream",
     "text": [
      "Trial number 22, time = 11/06/2021 10:07:36\n",
      "Plus de place option: planning35228\n"
     ]
    },
    {
     "name": "stderr",
     "output_type": "stream",
     "text": [
      "\n",
      "\n",
      "====== WebDriver manager ======\n",
      "Current google-chrome version is 91.0.4472\n",
      "Get LATEST driver version for 91.0.4472\n",
      "Driver [/home/yann/.wdm/drivers/chromedriver/linux64/91.0.4472.19/chromedriver] found in cache\n"
     ]
    },
    {
     "name": "stdout",
     "output_type": "stream",
     "text": [
      "Trial number 23, time = 11/06/2021 10:08:08\n",
      "Plus de place option: planning35227\n"
     ]
    },
    {
     "name": "stderr",
     "output_type": "stream",
     "text": [
      "\n",
      "\n",
      "====== WebDriver manager ======\n",
      "Current google-chrome version is 91.0.4472\n",
      "Get LATEST driver version for 91.0.4472\n",
      "Driver [/home/yann/.wdm/drivers/chromedriver/linux64/91.0.4472.19/chromedriver] found in cache\n"
     ]
    },
    {
     "name": "stdout",
     "output_type": "stream",
     "text": [
      "Trial number 24, time = 11/06/2021 10:08:42\n",
      "Something different! : planning35228\n"
     ]
    }
   ],
   "source": [
    "from selenium import webdriver\n",
    "from webdriver_manager.chrome import ChromeDriverManager\n",
    "from selenium.webdriver.common.keys import Keys\n",
    "from selenium.webdriver.common.by import By\n",
    "import time\n",
    "from selenium.webdriver.chrome.options import Options\n",
    "from datetime import datetime\n",
    "from twilio.rest import Client\n",
    "\n",
    "def sendMessage(message, recipent):\n",
    "    # client credentials are read from TWILIO_ACCOUNT_SID and AUTH_TOKEN\n",
    "    account_sid = \"AC00e983f008a2aefe3c1996c91c863***\"\n",
    "    # Your Auth Token from twilio.com/console\n",
    "    auth_token  = \"cb0fb39410a2f57ad1eb24d9848d1***\"\n",
    "\n",
    "    client = Client(account_sid, auth_token)\n",
    "\n",
    "    # this is the Twilio sandbox testing number\n",
    "    from_whatsapp_number='whatsapp:+1415523888*'\n",
    "    # replace this number with your own WhatsApp Messaging number\n",
    "    to_whatsapp_number=recipent\n",
    "\n",
    "    client.messages.create(body=message,\n",
    "                           from_=from_whatsapp_number,\n",
    "                           to=to_whatsapp_number)\n",
    "\n",
    "\n",
    "def sendMessageAll(message):\n",
    "    recipentsList = [\"whatsapp:+33687482780\", \"whatsapp:+33767235335\"]\n",
    "    for recipent in recipentsList:\n",
    "        sendMessage(message, recipent)\n",
    "    \n",
    "WINDOW_SIZE = \"1920,1080\"\n",
    "\n",
    "chrome_options = Options()  \n",
    "chrome_options.add_argument(\"--headless\")  \n",
    "chrome_options.add_argument(\"--window-size=%s\" % WINDOW_SIZE)\n",
    "\n",
    "testsNumber = 0;\n",
    "\n",
    "#options = [\"planning35227\", \"planning35228\", \"planning35229\"]\n",
    "options = [\"planning35227\", \"planning35228\"]\n",
    "notFound = True;\n",
    "while notFound:\n",
    "    #time.sleep(30)\n",
    "    for option in options:\n",
    "        try:\n",
    "            if testsNumber % 10 == 0:\n",
    "                sendMessageAll('Still runing, tried ' + str(testsNumber) + ' times...')\n",
    "\n",
    "            testsNumber = testsNumber + 1;\n",
    "\n",
    "            if not notFound:\n",
    "                continue\n",
    "            time.sleep(20)\n",
    "\n",
    "            now = datetime.now()\n",
    "            # dd/mm/YY H:M:S\n",
    "            dt_string = now.strftime(\"%d/%m/%Y %H:%M:%S\")\n",
    "            print(\"Trial number \" + str(testsNumber) + \", time =\", dt_string)\n",
    "\n",
    "            driver = webdriver.Chrome(ChromeDriverManager().install())\n",
    "            try: \n",
    "                #driver = webdriver.Chrome(options=chrome_options)\n",
    "                driver.get(\"http://www.isere.gouv.fr/booking/create/14544\")\n",
    "            except: \n",
    "                print(\"Fail to load page\")\n",
    "                driver.close()\n",
    "                time.sleep(600)\n",
    "                continue\n",
    "            time.sleep(1)\n",
    "            try:\n",
    "                driver.find_element_by_id(\"condition\").click()\n",
    "                time.sleep(1)\n",
    "                driver.find_element(By.NAME, \"nextButton\").click()\n",
    "            except: \n",
    "                print(\"Fail on 1st page\")\n",
    "                driver.close()\n",
    "                time.sleep(600)\n",
    "                continue\n",
    "            time.sleep(1)\n",
    "            try:\n",
    "                optionEl = driver.find_element_by_id(option)\n",
    "                optionEl.click();\n",
    "                time.sleep(1)\n",
    "                driver.find_element(By.NAME, \"nextButton\").click()\n",
    "            except:\n",
    "                print(\"Fail on 2nd page\")\n",
    "                driver.close()\n",
    "                time.sleep(600)\n",
    "                continue\n",
    "\n",
    "\n",
    "            if \"Il n'existe plus de plage horaire libre pour votre demande de rendez-vous\" in driver.page_source:\n",
    "                print(\"Plus de place option: \" + option)\n",
    "            elif \"502\" in driver.page_source:\n",
    "                print(\"Bad gateway: \" + option)\n",
    "            elif \"Site indisponible\" in driver.page_source:\n",
    "                print(\"Site indisponible: \" + option)\n",
    "            else:\n",
    "                print(\"Something different! : \" + option)\n",
    "                message = 'Something different detected at http://www.isere.gouv.fr/booking/create/14544 \\\n",
    "                for option ' + option + '\\n \\\n",
    "                \\n \\\n",
    "                planning35227: matin \\n \\\n",
    "                planning35228: apres midi \\n \\\n",
    "                planning35229: mardis et vendredi après midi'\n",
    "                sendMessageAll(message)\n",
    "                notFound = False;\n",
    "            if notFound:\n",
    "                driver.close()\n",
    "        except:\n",
    "            print(\"Unknown fail\")\n",
    "            sendMessageAll(\"USorry princess Tingting, an error occured, but I ll reboot :)\")\n",
    "\n",
    "        "
   ]
  },
  {
   "cell_type": "code",
   "execution_count": 27,
   "metadata": {},
   "outputs": [
    {
     "name": "stdout",
     "output_type": "stream",
     "text": [
      "env: TWILIO_ACCOUNT_SID='AC00e983f008a2aefe3c1996c91c863203' # paste in Account SID between single quotes\n",
      "env: TWILIO_AUTH_TOKEN='4dc084c7ccf70684ae2c87e2d47e5071' # paste Auth Token between single quotes\n"
     ]
    }
   ],
   "source": []
  },
  {
   "cell_type": "code",
   "execution_count": 2,
   "metadata": {},
   "outputs": [
    {
     "data": {
      "text/plain": [
       "<Twilio.Api.V2010.MessageInstance account_sid=AC00e983f008a2aefe3c1996c91c863203 sid=SM2d79b38a23794f239f175084ecbc7275>"
      ]
     },
     "execution_count": 2,
     "metadata": {},
     "output_type": "execute_result"
    }
   ],
   "source": []
  },
  {
   "cell_type": "code",
   "execution_count": null,
   "metadata": {},
   "outputs": [],
   "source": []
  },
  {
   "cell_type": "code",
   "execution_count": null,
   "metadata": {},
   "outputs": [],
   "source": []
  }
 ],
 "metadata": {
  "kernelspec": {
   "display_name": "Python 3",
   "language": "python",
   "name": "python3"
  },
  "language_info": {
   "codemirror_mode": {
    "name": "ipython",
    "version": 3
   },
   "file_extension": ".py",
   "mimetype": "text/x-python",
   "name": "python",
   "nbconvert_exporter": "python",
   "pygments_lexer": "ipython3",
   "version": "3.8.5"
  }
 },
 "nbformat": 4,
 "nbformat_minor": 2
}
